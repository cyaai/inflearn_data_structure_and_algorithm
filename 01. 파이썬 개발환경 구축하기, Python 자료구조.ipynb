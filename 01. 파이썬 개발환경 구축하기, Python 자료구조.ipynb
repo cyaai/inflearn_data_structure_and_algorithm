{
 "cells": [
  {
   "cell_type": "markdown",
   "metadata": {},
   "source": [
    "# 01. 파이썬 개발환경 구축하기, PyCharm 설치"
   ]
  },
  {
   "cell_type": "markdown",
   "metadata": {},
   "source": [
    "### 통합개발환경 ( IDE, Intergrated Developer Environment )\n",
    "\n",
    "- 프로그램 개발과 관련된 모든 작업을 통합하여 관리해주는 소프트웨어\n",
    "- ex) 코딩, 디버깅, 빌드, 협업, 문서화, 배포 등\n",
    "\n",
    "단순히 코딩을 쉽게 하는 텍스트 편집 기능을 넘어 개발생산성을 향상시킬 수 있는 다양한 도구들"
   ]
  },
  {
   "cell_type": "markdown",
   "metadata": {},
   "source": [
    "파이썬은 스크립트 언어의 특성상 (1줄, 1줄 실행)\n",
    "IDE 활요 필요성이 타언어에 비해 상대적으로 낮지만\n",
    "\n",
    "최근 웹개발 등 대규모 개발이 지속적으로 진행되며 IDE 활용이 높아지고 있음"
   ]
  },
  {
   "cell_type": "markdown",
   "metadata": {},
   "source": [
    "# Pycharm\n",
    "- 실행 단축키 : alt + shift + f10\n",
    "- 프로젝트의 인코딩이랑 IDE 인코딩이랑 동일해야 합니당 ( Default 수정 )"
   ]
  },
  {
   "cell_type": "markdown",
   "metadata": {},
   "source": [
    "### 표준 자료구조 : 리스트, 튜플, 딕셔너리(사전), set(집합)\n",
    "\n",
    "## collections 모듈 \n",
    "- deque : 양쪽에 아이템을 넣고 뺄수 있음!\n",
    "- defaultdict : key가 없는 데이터 사전\n",
    "- Counter : \n",
    "- namedtuple :\n",
    "- OrderedDict : \n",
    "\n",
    "\n",
    "## array 모듈\n",
    " - 동일한 데이터 타입을 가짐 ( list는 여러가지 데이터 타입이라 메모리 사용에 비효율적 )\n",
    " - array 사용하는 방법\n",
    " \n",
    "## heapq 모듈 \n",
    " - 리스트의 겅우 sort()로 정렬 => 데이터가 많다면 정렬하는데 소요되는 메모리가 많이 든다는 단점이 있음..!\n",
    " - heapq 모듈을 사용하면 정렬된 상태로 유지하기 때문에 메모리 관점에서 유리함\n",
    " \n",
    "## bisect 모듈\n",
    " - 리스트를 정렬된 상태로 유지하며 요소를 추가, 중복값 처리\n",
    " \n",
    "## queue 모듈\n",
    " \n",
    "## struct 모듈 \n",
    " \n",
    "## copy 모듈 : 객체 복사 모듈\n",
    "\n",
    "일반적으로 que, fifo 등의 구조를 가지고 있음"
   ]
  },
  {
   "cell_type": "code",
   "execution_count": null,
   "metadata": {
    "collapsed": true
   },
   "outputs": [],
   "source": []
  }
 ],
 "metadata": {
  "kernelspec": {
   "display_name": "Python 3",
   "language": "python",
   "name": "python3"
  },
  "language_info": {
   "codemirror_mode": {
    "name": "ipython",
    "version": 3
   },
   "file_extension": ".py",
   "mimetype": "text/x-python",
   "name": "python",
   "nbconvert_exporter": "python",
   "pygments_lexer": "ipython3",
   "version": "3.5.1"
  }
 },
 "nbformat": 4,
 "nbformat_minor": 0
}
