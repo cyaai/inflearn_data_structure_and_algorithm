{
 "cells": [
  {
   "cell_type": "markdown",
   "metadata": {},
   "source": [
    "# 힙 정렬 알고리즘 ( Heap )\n",
    "\n",
    "- 자식노드가 부모노드와 정렬관계를 가지는 트리형 자료 구조\n",
    "\n",
    "이진트리의 자료구조를 가지고 정렬함\n",
    "\n",
    "##  max-heap 구조 \n",
    "\n",
    "가장 큰 수를 위로 올리는 방식..!\n",
    "\n",
    "정렬이 완료되면 가장 큰 수를 빼고, 그 빠진 자리에 맨아래에 있던 수를 넣고 다시 정렬~ 반복\n",
    "\n",
    "## min-heap 구조\n",
    "\n",
    "그 반대!\n",
    "\n",
    "\n",
    "파이썬에서 제공하는 heapq 모듈은 **min-heap**임!!\n",
    "\n",
    "       n\n",
    "2n+1  2n+2"
   ]
  },
  {
   "cell_type": "markdown",
   "metadata": {},
   "source": [
    "이진 heap은 array나 list를 사용해서 표현할 수 있음\n",
    "\n",
    "이 때 수식은 n(인덱스)을 부모로하는 자식 노드와 위치 수식은 2*n+1, 2*n+2"
   ]
  },
  {
   "cell_type": "code",
   "execution_count": 2,
   "metadata": {
    "collapsed": true
   },
   "outputs": [],
   "source": [
    "import heapq"
   ]
  },
  {
   "cell_type": "code",
   "execution_count": 3,
   "metadata": {
    "collapsed": true
   },
   "outputs": [],
   "source": [
    "# 힙 생성 : heapqpush(), heapqify()"
   ]
  },
  {
   "cell_type": "code",
   "execution_count": null,
   "metadata": {
    "collapsed": true
   },
   "outputs": [],
   "source": []
  }
 ],
 "metadata": {
  "kernelspec": {
   "display_name": "Python 3",
   "language": "python",
   "name": "python3"
  },
  "language_info": {
   "codemirror_mode": {
    "name": "ipython",
    "version": 3
   },
   "file_extension": ".py",
   "mimetype": "text/x-python",
   "name": "python",
   "nbconvert_exporter": "python",
   "pygments_lexer": "ipython3",
   "version": "3.5.1"
  }
 },
 "nbformat": 4,
 "nbformat_minor": 0
}
